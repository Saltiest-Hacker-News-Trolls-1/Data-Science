{
 "cells": [
  {
   "cell_type": "code",
   "execution_count": 23,
   "metadata": {},
   "outputs": [],
   "source": [
    "toyData=open('toy_data', 'r')"
   ]
  },
  {
   "cell_type": "code",
   "execution_count": 5,
   "metadata": {},
   "outputs": [
    {
     "ename": "ValueError",
     "evalue": "DataFrame constructor not properly called!",
     "output_type": "error",
     "traceback": [
      "\u001b[0;31m---------------------------------------------------------------------------\u001b[0m",
      "\u001b[0;31mValueError\u001b[0m                                Traceback (most recent call last)",
      "\u001b[0;32m<ipython-input-5-7445b6e7a7fa>\u001b[0m in \u001b[0;36m<module>\u001b[0;34m\u001b[0m\n\u001b[0;32m----> 1\u001b[0;31m \u001b[0mpd\u001b[0m\u001b[0;34m.\u001b[0m\u001b[0mDataFrame\u001b[0m\u001b[0;34m(\u001b[0m\u001b[0mtoyData\u001b[0m\u001b[0;34m.\u001b[0m\u001b[0mread\u001b[0m\u001b[0;34m(\u001b[0m\u001b[0;34m)\u001b[0m\u001b[0;34m)\u001b[0m\u001b[0;34m\u001b[0m\u001b[0;34m\u001b[0m\u001b[0m\n\u001b[0m",
      "\u001b[0;32m~/anaconda3/envs/U4-S1-NLP/lib/python3.7/site-packages/pandas/core/frame.py\u001b[0m in \u001b[0;36m__init__\u001b[0;34m(self, data, index, columns, dtype, copy)\u001b[0m\n\u001b[1;32m    483\u001b[0m                 )\n\u001b[1;32m    484\u001b[0m             \u001b[0;32melse\u001b[0m\u001b[0;34m:\u001b[0m\u001b[0;34m\u001b[0m\u001b[0;34m\u001b[0m\u001b[0m\n\u001b[0;32m--> 485\u001b[0;31m                 \u001b[0;32mraise\u001b[0m \u001b[0mValueError\u001b[0m\u001b[0;34m(\u001b[0m\u001b[0;34m\"DataFrame constructor not properly called!\"\u001b[0m\u001b[0;34m)\u001b[0m\u001b[0;34m\u001b[0m\u001b[0;34m\u001b[0m\u001b[0m\n\u001b[0m\u001b[1;32m    486\u001b[0m \u001b[0;34m\u001b[0m\u001b[0m\n\u001b[1;32m    487\u001b[0m         \u001b[0mNDFrame\u001b[0m\u001b[0;34m.\u001b[0m\u001b[0m__init__\u001b[0m\u001b[0;34m(\u001b[0m\u001b[0mself\u001b[0m\u001b[0;34m,\u001b[0m \u001b[0mmgr\u001b[0m\u001b[0;34m,\u001b[0m \u001b[0mfastpath\u001b[0m\u001b[0;34m=\u001b[0m\u001b[0;32mTrue\u001b[0m\u001b[0;34m)\u001b[0m\u001b[0;34m\u001b[0m\u001b[0;34m\u001b[0m\u001b[0m\n",
      "\u001b[0;31mValueError\u001b[0m: DataFrame constructor not properly called!"
     ]
    }
   ],
   "source": [
    "pd.DataFrame(toyData.read())"
   ]
  },
  {
   "cell_type": "code",
   "execution_count": 55,
   "metadata": {},
   "outputs": [],
   "source": [
    "import pandas as pd\n",
    "import numpy as np"
   ]
  },
  {
   "cell_type": "code",
   "execution_count": 24,
   "metadata": {},
   "outputs": [],
   "source": [
    "data=toyData.read()"
   ]
  },
  {
   "cell_type": "code",
   "execution_count": 7,
   "metadata": {},
   "outputs": [],
   "source": [
    "for item in data:\n",
    "    print(item)"
   ]
  },
  {
   "cell_type": "code",
   "execution_count": null,
   "metadata": {},
   "outputs": [],
   "source": []
  },
  {
   "cell_type": "code",
   "execution_count": 15,
   "metadata": {},
   "outputs": [
    {
     "data": {
      "text/plain": [
       "''"
      ]
     },
     "execution_count": 15,
     "metadata": {},
     "output_type": "execute_result"
    }
   ],
   "source": [
    "toyData.readline()"
   ]
  },
  {
   "cell_type": "code",
   "execution_count": 18,
   "metadata": {},
   "outputs": [],
   "source": [
    "import ast\n",
    "import json"
   ]
  },
  {
   "cell_type": "code",
   "execution_count": 28,
   "metadata": {},
   "outputs": [],
   "source": [
    "df = pd.DataFrame(ast.literal_eval(data))"
   ]
  },
  {
   "cell_type": "code",
   "execution_count": 30,
   "metadata": {},
   "outputs": [
    {
     "data": {
      "text/plain": [
       "0      How do you all monitor air quality?<p>I person...\n",
       "1      Any idea how good the Awair monitors are? I re...\n",
       "2      The South Coast (California) Air Quality Manag...\n",
       "3      Anyone want to review this table and suggest a...\n",
       "4      Based on my reading of the table, the PurpleAi...\n",
       "                             ...                        \n",
       "100    <a href=\"https:&#x2F;&#x2F;en.wikipedia.org&#x...\n",
       "101    I&#x27;m confused - is IQ a reliable way to me...\n",
       "102    whatever skills IQ tests measure these do corr...\n",
       "103    I thought IQ was not a reliable measure of any...\n",
       "104    I wouldn&#x27;t call IQ a completely useless y...\n",
       "Name: comment, Length: 105, dtype: object"
      ]
     },
     "execution_count": 30,
     "metadata": {},
     "output_type": "execute_result"
    }
   ],
   "source": [
    "df['comment'].apply(lambda x: x.replace(\"<[^>]*>\", \"\"))"
   ]
  },
  {
   "cell_type": "code",
   "execution_count": 40,
   "metadata": {},
   "outputs": [],
   "source": [
    "htmlcomm=df.iloc[100, 1]"
   ]
  },
  {
   "cell_type": "code",
   "execution_count": 35,
   "metadata": {},
   "outputs": [],
   "source": [
    "from html.parser import HTMLParser"
   ]
  },
  {
   "cell_type": "code",
   "execution_count": 37,
   "metadata": {},
   "outputs": [],
   "source": [
    "parser= HTMLParser()"
   ]
  },
  {
   "cell_type": "code",
   "execution_count": 38,
   "metadata": {},
   "outputs": [],
   "source": [
    "parser.feed(htmlcomm)"
   ]
  },
  {
   "cell_type": "code",
   "execution_count": 42,
   "metadata": {},
   "outputs": [],
   "source": [
    "parser.handle_data(htmlcomm)"
   ]
  },
  {
   "cell_type": "code",
   "execution_count": 41,
   "metadata": {},
   "outputs": [
    {
     "data": {
      "text/plain": [
       "'<a href=\"https:&#x2F;&#x2F;en.wikipedia.org&#x2F;wiki&#x2F;Stanford_marshmallow_experiment\" rel=\"nofollow\">https:&#x2F;&#x2F;en.wikipedia.org&#x2F;wiki&#x2F;Stanford_marshmallow_experimen...</a><p>&gt; The replication suggested that economic background, rather than willpower, explained the other half<p>Yeah<p>And 250k&#x2F;y &quot;poor&quot;<p><a href=\"https:&#x2F;&#x2F;www.theatlantic.com&#x2F;national&#x2F;archive&#x2F;2010&#x2F;09&#x2F;the-self-pity-of-the-harvard-poor&#x2F;63755&#x2F;\" rel=\"nofollow\">https:&#x2F;&#x2F;www.theatlantic.com&#x2F;national&#x2F;archive&#x2F;2010&#x2F;09&#x2F;the-sel...</a><p><a href=\"https:&#x2F;&#x2F;www.theatlantic.com&#x2F;national&#x2F;archive&#x2F;2010&#x2F;09&#x2F;in-defense-of-the-self-pitying-wealthy-poor&#x2F;63777&#x2F;\" rel=\"nofollow\">https:&#x2F;&#x2F;www.theatlantic.com&#x2F;national&#x2F;archive&#x2F;2010&#x2F;09&#x2F;in-defe...</a>'"
      ]
     },
     "execution_count": 41,
     "metadata": {},
     "output_type": "execute_result"
    }
   ],
   "source": [
    "htmlcomm"
   ]
  },
  {
   "cell_type": "code",
   "execution_count": 43,
   "metadata": {},
   "outputs": [
    {
     "data": {
      "text/plain": [
       "'https:&#x2F;&#x2F;en.wikipedia.org&#x2F;wiki&#x2F;Stanford_marshmallow_experimen...&gt; The replication suggested that economic background, rather than willpower, explained the other halfYeahAnd 250k&#x2F;y &quot;poor&quot;https:&#x2F;&#x2F;www.theatlantic.com&#x2F;national&#x2F;archive&#x2F;2010&#x2F;09&#x2F;the-sel...https:&#x2F;&#x2F;www.theatlantic.com&#x2F;national&#x2F;archive&#x2F;2010&#x2F;09&#x2F;in-defe...'"
      ]
     },
     "execution_count": 43,
     "metadata": {},
     "output_type": "execute_result"
    }
   ],
   "source": [
    "import re\n",
    "re.sub(\"<[^>]*>\", \"\", htmlcomm)"
   ]
  },
  {
   "cell_type": "code",
   "execution_count": 49,
   "metadata": {},
   "outputs": [],
   "source": [
    "df['cleanComment']=df['comment'].apply(lambda html: BeautifulSoup(html).get_text())"
   ]
  },
  {
   "cell_type": "code",
   "execution_count": 47,
   "metadata": {},
   "outputs": [],
   "source": [
    "from bs4 import BeautifulSoup"
   ]
  },
  {
   "cell_type": "code",
   "execution_count": 52,
   "metadata": {},
   "outputs": [
    {
     "name": "stdout",
     "output_type": "stream",
     "text": [
      "https://en.wikipedia.org/wiki/Stanford_marshmallow_experimen...> The replication suggested that economic background, rather than willpower, explained the other halfYeahAnd 250k/y \"poor\"https://www.theatlantic.com/national/archive/2010/09/the-sel...https://www.theatlantic.com/national/archive/2010/09/in-defe...\n"
     ]
    }
   ],
   "source": [
    "print(df['cleanComment'].iloc[100])"
   ]
  },
  {
   "cell_type": "code",
   "execution_count": 54,
   "metadata": {},
   "outputs": [],
   "source": [
    "def removeLinks(data):\n",
    "    if 'href' in data: \n",
    "        return np.NaN\n",
    "    else:\n",
    "        return data"
   ]
  },
  {
   "cell_type": "code",
   "execution_count": 61,
   "metadata": {},
   "outputs": [],
   "source": [
    "df['cleanComment']=df['comment'].apply(removeLinks).dropna().apply(lambda x: BeautifulSoup(x).get_text())"
   ]
  },
  {
   "cell_type": "code",
   "execution_count": 58,
   "metadata": {},
   "outputs": [
    {
     "data": {
      "text/plain": [
       "(105, 3)"
      ]
     },
     "execution_count": 58,
     "metadata": {},
     "output_type": "execute_result"
    }
   ],
   "source": [
    "df.shape"
   ]
  },
  {
   "cell_type": "code",
   "execution_count": 64,
   "metadata": {},
   "outputs": [],
   "source": [
    "df.dropna(inplace=True)"
   ]
  },
  {
   "cell_type": "code",
   "execution_count": 66,
   "metadata": {},
   "outputs": [
    {
     "data": {
      "text/plain": [
       "(81, 3)"
      ]
     },
     "execution_count": 66,
     "metadata": {},
     "output_type": "execute_result"
    }
   ],
   "source": [
    "df.shape"
   ]
  },
  {
   "cell_type": "code",
   "execution_count": 67,
   "metadata": {},
   "outputs": [
    {
     "data": {
      "text/html": [
       "<div>\n",
       "<style scoped>\n",
       "    .dataframe tbody tr th:only-of-type {\n",
       "        vertical-align: middle;\n",
       "    }\n",
       "\n",
       "    .dataframe tbody tr th {\n",
       "        vertical-align: top;\n",
       "    }\n",
       "\n",
       "    .dataframe thead th {\n",
       "        text-align: right;\n",
       "    }\n",
       "</style>\n",
       "<table border=\"1\" class=\"dataframe\">\n",
       "  <thead>\n",
       "    <tr style=\"text-align: right;\">\n",
       "      <th></th>\n",
       "      <th>user</th>\n",
       "      <th>comment</th>\n",
       "      <th>cleanComment</th>\n",
       "    </tr>\n",
       "  </thead>\n",
       "  <tbody>\n",
       "    <tr>\n",
       "      <th>0</th>\n",
       "      <td>Scene_Cast2</td>\n",
       "      <td>How do you all monitor air quality?&lt;p&gt;I person...</td>\n",
       "      <td>How do you all monitor air quality?I personall...</td>\n",
       "    </tr>\n",
       "    <tr>\n",
       "      <th>3</th>\n",
       "      <td>PowerfulWizard</td>\n",
       "      <td>Anyone want to review this table and suggest a...</td>\n",
       "      <td>Anyone want to review this table and suggest a...</td>\n",
       "    </tr>\n",
       "    <tr>\n",
       "      <th>4</th>\n",
       "      <td>bearforcenine</td>\n",
       "      <td>Based on my reading of the table, the PurpleAi...</td>\n",
       "      <td>Based on my reading of the table, the PurpleAi...</td>\n",
       "    </tr>\n",
       "    <tr>\n",
       "      <th>6</th>\n",
       "      <td>9dl</td>\n",
       "      <td>&amp;gt;*Field R2&lt;p&gt;Under the table is definition ...</td>\n",
       "      <td>&gt;*Field R2Under the table is definition of R^2...</td>\n",
       "    </tr>\n",
       "    <tr>\n",
       "      <th>7</th>\n",
       "      <td>bearforcenine</td>\n",
       "      <td>Isn&amp;#x27;t the table sorted alphabetically?</td>\n",
       "      <td>Isn't the table sorted alphabetically?</td>\n",
       "    </tr>\n",
       "  </tbody>\n",
       "</table>\n",
       "</div>"
      ],
      "text/plain": [
       "             user                                            comment  \\\n",
       "0     Scene_Cast2  How do you all monitor air quality?<p>I person...   \n",
       "3  PowerfulWizard  Anyone want to review this table and suggest a...   \n",
       "4   bearforcenine  Based on my reading of the table, the PurpleAi...   \n",
       "6             9dl  &gt;*Field R2<p>Under the table is definition ...   \n",
       "7   bearforcenine        Isn&#x27;t the table sorted alphabetically?   \n",
       "\n",
       "                                        cleanComment  \n",
       "0  How do you all monitor air quality?I personall...  \n",
       "3  Anyone want to review this table and suggest a...  \n",
       "4  Based on my reading of the table, the PurpleAi...  \n",
       "6  >*Field R2Under the table is definition of R^2...  \n",
       "7             Isn't the table sorted alphabetically?  "
      ]
     },
     "execution_count": 67,
     "metadata": {},
     "output_type": "execute_result"
    }
   ],
   "source": [
    "df.head()"
   ]
  },
  {
   "cell_type": "code",
   "execution_count": 71,
   "metadata": {},
   "outputs": [],
   "source": [
    "from vaderSentiment.vaderSentiment import SentimentIntensityAnalyzer"
   ]
  },
  {
   "cell_type": "code",
   "execution_count": 72,
   "metadata": {},
   "outputs": [],
   "source": [
    "analyser = SentimentIntensityAnalyzer()"
   ]
  },
  {
   "cell_type": "code",
   "execution_count": 84,
   "metadata": {},
   "outputs": [
    {
     "name": "stdout",
     "output_type": "stream",
     "text": [
      "0.09486419753086421\n",
      "0.8171111111111112\n",
      "0.08798765432098764\n",
      "0.039937037037037035\n"
     ]
    }
   ],
   "source": [
    "posScore=[]\n",
    "neuScore=[]\n",
    "comScore=[]\n",
    "negScore=[]\n",
    "for comment in df['cleanComment']:\n",
    "    neg, neu, pos, com = analyser.polarity_scores(comment).values()\n",
    "    negScore.append(float(neg))\n",
    "    neuScore.append(float(neu))\n",
    "    posScore.append(float(pos))\n",
    "    comScore.append(float(com))\n",
    "print(np.mean(negScore))\n",
    "print(np.mean(neuScore))\n",
    "print(np.mean(posScore))\n",
    "print(np.mean(comScore))"
   ]
  },
  {
   "cell_type": "code",
   "execution_count": 75,
   "metadata": {},
   "outputs": [
    {
     "data": {
      "text/plain": [
       "glofish            6\n",
       "INGELRII           2\n",
       "OnlineGladiator    2\n",
       "gnode              2\n",
       "TrainedMonkey      2\n",
       "                  ..\n",
       "acd                1\n",
       "avip               1\n",
       "bryanmgreen        1\n",
       "ErikAugust         1\n",
       "jefftk             1\n",
       "Name: user, Length: 63, dtype: int64"
      ]
     },
     "execution_count": 75,
     "metadata": {},
     "output_type": "execute_result"
    }
   ],
   "source": [
    "df['user'].value_counts()"
   ]
  },
  {
   "cell_type": "code",
   "execution_count": 85,
   "metadata": {},
   "outputs": [],
   "source": [
    "def get_scores(data):\n",
    "    '''Returns the mean scores of negative, neutral, positive or combined for \n",
    "    a given list of data \n",
    "    would make sense to be grouped by user or by article'''\n",
    "    posScore=[]\n",
    "    neuScore=[]\n",
    "    comScore=[]\n",
    "    negScore=[]\n",
    "    for comment in data:\n",
    "        neg, neu, pos, com = analyser.polarity_scores(comment).values()\n",
    "        negScore.append(float(neg))\n",
    "        neuScore.append(float(neu))\n",
    "        posScore.append(float(pos))\n",
    "        comScore.append(float(com))\n",
    "    return {'neg': np.mean(negScore), 'neu': np.mean(neuScore), 'pos':np.mean(posScore), 'com': np.mean(comScore)}"
   ]
  },
  {
   "cell_type": "code",
   "execution_count": null,
   "metadata": {},
   "outputs": [],
   "source": [
    "def negativity_func(text):\n",
    "    return analyser.polarity_scores(text)['neg']"
   ]
  },
  {
   "cell_type": "code",
   "execution_count": 86,
   "metadata": {},
   "outputs": [
    {
     "data": {
      "text/plain": [
       "{'neg': 0.0, 'neu': 1.0, 'pos': 0.0, 'compound': 0.0}"
      ]
     },
     "execution_count": 86,
     "metadata": {},
     "output_type": "execute_result"
    }
   ],
   "source": [
    "analyser.polarity_scores('this is a line of text')"
   ]
  },
  {
   "cell_type": "code",
   "execution_count": null,
   "metadata": {},
   "outputs": [],
   "source": []
  }
 ],
 "metadata": {
  "kernelspec": {
   "display_name": "Python 3",
   "language": "python",
   "name": "python3"
  },
  "language_info": {
   "codemirror_mode": {
    "name": "ipython",
    "version": 3
   },
   "file_extension": ".py",
   "mimetype": "text/x-python",
   "name": "python",
   "nbconvert_exporter": "python",
   "pygments_lexer": "ipython3",
   "version": "3.7.3"
  }
 },
 "nbformat": 4,
 "nbformat_minor": 4
}
