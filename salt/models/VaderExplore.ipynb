{
 "cells": [
  {
   "cell_type": "code",
   "execution_count": 87,
   "metadata": {},
   "outputs": [],
   "source": [
    "toyData=open('toy_data (1)', 'r')"
   ]
  },
  {
   "cell_type": "code",
   "execution_count": 5,
   "metadata": {},
   "outputs": [
    {
     "ename": "ValueError",
     "evalue": "DataFrame constructor not properly called!",
     "output_type": "error",
     "traceback": [
      "\u001b[0;31m---------------------------------------------------------------------------\u001b[0m",
      "\u001b[0;31mValueError\u001b[0m                                Traceback (most recent call last)",
      "\u001b[0;32m<ipython-input-5-7445b6e7a7fa>\u001b[0m in \u001b[0;36m<module>\u001b[0;34m\u001b[0m\n\u001b[0;32m----> 1\u001b[0;31m \u001b[0mpd\u001b[0m\u001b[0;34m.\u001b[0m\u001b[0mDataFrame\u001b[0m\u001b[0;34m(\u001b[0m\u001b[0mtoyData\u001b[0m\u001b[0;34m.\u001b[0m\u001b[0mread\u001b[0m\u001b[0;34m(\u001b[0m\u001b[0;34m)\u001b[0m\u001b[0;34m)\u001b[0m\u001b[0;34m\u001b[0m\u001b[0;34m\u001b[0m\u001b[0m\n\u001b[0m",
      "\u001b[0;32m~/anaconda3/envs/U4-S1-NLP/lib/python3.7/site-packages/pandas/core/frame.py\u001b[0m in \u001b[0;36m__init__\u001b[0;34m(self, data, index, columns, dtype, copy)\u001b[0m\n\u001b[1;32m    483\u001b[0m                 )\n\u001b[1;32m    484\u001b[0m             \u001b[0;32melse\u001b[0m\u001b[0;34m:\u001b[0m\u001b[0;34m\u001b[0m\u001b[0;34m\u001b[0m\u001b[0m\n\u001b[0;32m--> 485\u001b[0;31m                 \u001b[0;32mraise\u001b[0m \u001b[0mValueError\u001b[0m\u001b[0;34m(\u001b[0m\u001b[0;34m\"DataFrame constructor not properly called!\"\u001b[0m\u001b[0;34m)\u001b[0m\u001b[0;34m\u001b[0m\u001b[0;34m\u001b[0m\u001b[0m\n\u001b[0m\u001b[1;32m    486\u001b[0m \u001b[0;34m\u001b[0m\u001b[0m\n\u001b[1;32m    487\u001b[0m         \u001b[0mNDFrame\u001b[0m\u001b[0;34m.\u001b[0m\u001b[0m__init__\u001b[0m\u001b[0;34m(\u001b[0m\u001b[0mself\u001b[0m\u001b[0;34m,\u001b[0m \u001b[0mmgr\u001b[0m\u001b[0;34m,\u001b[0m \u001b[0mfastpath\u001b[0m\u001b[0;34m=\u001b[0m\u001b[0;32mTrue\u001b[0m\u001b[0;34m)\u001b[0m\u001b[0;34m\u001b[0m\u001b[0;34m\u001b[0m\u001b[0m\n",
      "\u001b[0;31mValueError\u001b[0m: DataFrame constructor not properly called!"
     ]
    }
   ],
   "source": [
    "pd.DataFrame(toyData.read())"
   ]
  },
  {
   "cell_type": "code",
   "execution_count": 55,
   "metadata": {},
   "outputs": [],
   "source": [
    "import pandas as pd\n",
    "import numpy as np"
   ]
  },
  {
   "cell_type": "code",
   "execution_count": 88,
   "metadata": {},
   "outputs": [],
   "source": [
    "data=toyData.read()"
   ]
  },
  {
   "cell_type": "code",
   "execution_count": 7,
   "metadata": {},
   "outputs": [],
   "source": [
    "for item in data:\n",
    "    print(item)"
   ]
  },
  {
   "cell_type": "code",
   "execution_count": 89,
   "metadata": {
    "collapsed": true,
    "jupyter": {
     "outputs_hidden": true
    }
   },
   "outputs": [
    {
     "data": {
      "text/plain": [
       "'[{\\'user\\': \\'yagurastation\\', \\'comment\\': \\'Anyone interested should also check out the open source citizen science project https://luftdaten.info/en/Build your own inexpensive sensor, contribute to the global network. See also https://github.com/opendata-stuttgart\\'}, {\\'user\\': \\'simonebrunozzi\\', \\'comment\\': \\'For people living in the US like me, this is where you find US pollution maps: https://usa.maps.luftdaten.info/\\'}, {\\'user\\': \\'QuanticSausage\\', \\'comment\\': \"I don\\'t know you, but in every lecture in college that was done in a room with no air flow, I got distracted every five minutes or so. If the proportion of C02 had a cognitive effect that I could feel, then I wouldn\\'t be surprised if other kinds of contaminants do the same.\"}, {\\'user\\': \\'ketzo\\', \\'comment\\': \\'Can’t find a source, but there’s a similar thing with long meetings — after two hours in a conference room, you’ve added enough CO2 to affect cognitive function.\\'}, {\\'user\\': \\'Scene_Cast2\\', \\'comment\\': \\'How do you all monitor air quality?I personally have a couple of devices (an Awair and a Flow). They seem to under-report PM2.5 compared to purpleair, airnow, and waqi.\\'}, {\\'user\\': \\'spladug\\', \\'comment\\': \\'The South Coast (California) Air Quality Management District does some really thorough tests on the quality of the various low-cost sensors: https://www.aqmd.gov/aq-spec/evaluations/summary-pm\\'}, {\\'user\\': \\'PowerfulWizard\\', \\'comment\\': \"Anyone want to review this table and suggest a currently commercially available option in the $300 and lower price range? I may have time this afternoon but if anyone does go thorough it I\\'m interested to know.\"}, {\\'user\\': \\'bearforcenine\\', \\'comment\\': \\'Based on my reading of the table, the PurpleAir II sensors seemed to be the best of the sub $300 for PM1.0 (field R^2 of 0.96 to 0.98) and PM2.5 (field R^2 of 0.93 to 0.97). The PM10 readings were not as good (field R^2 of 0.66 to 0.70).After skimming the rest of the table, it looks like the PurpleAir II sensors might have some of the best field R^2 for PM 2.5 and PM 1.0\\'}, {\\'user\\': \\'PowerfulWizard\\', \\'comment\\': \\'I agree, looking at devices around the sub-$300 price point that were lab tested, PA-II has good performance and seems to be readily available.\\'}, {\\'user\\': \\'surfmike\\', \\'comment\\': \\'I like the IQ air sensors https://www.iqair.com/us/air-quality-monitors/airvisual-pro\\'}, {\\'user\\': \\'9dl\\', \\'comment\\': \\'>*Field R2Under the table is definition of R^2>The coefficient of determination (R2) is a statistical parameter measuring the degree of relation between two variables. ....The more - the better. Range [0; 1)More device in your area === better quality of measurement\\'}, {\\'user\\': \\'bearforcenine\\', \\'comment\\': \"Isn\\'t the table sorted alphabetically?\"}, {\\'user\\': \\'9dl\\', \\'comment\\': \\'TrueMy bad\\'}, {\\'user\\': \\'yagurastation\\', \\'comment\\': \\'The inexpensive SDS011 holds up very well and works for this global citizen science project very well: https://luftdaten.info/evaluation/\\'}, {\\'user\\': \\'tasty_freeze\\', \\'comment\\': \"I have a uHoo monitor (yes, it is a dumb name).https://uhooair.com/It logs temperature, relative humidity, air pressure, CO2, CO, TVOC, PM2.5, NO2, and ozone. They are about $300.  The device itself doesn\\'t have any UI; you need to connect to it via a phone app.\"}, {\\'user\\': \\'vrodic\\', \\'comment\\': \"I have pms3003 you can get for about 12 USD on AliExpress.I bought a small usb-to-serial adapter connected to Raspberry Pi Zero W.Here\\'s a combo with a similar device here:https://www.aliexpress.com/item/32617788139.html?spm=2114.12...There are plenty of comparisons available online, but there\\'s a good overview site here:\\\\nhttps://aqicn.org/sensor/\"}, {\\'user\\': \\'briefcomment\\', \\'comment\\': \"Measurements from PurpleAir\\'s network of public sensors are available for free.It\\'s a useful tool if the locals in the area that you\\'re interested in are using PurpleAir\\'s sensors.https://www.purpleair.com/map?opt=1/mAQI/a10/cC0#1/25/-30\"}, {\\'user\\': \\'yissp\\', \\'comment\\': \\'Do you act on this information? Is there really much you can do to mitigate the effects?\\'}, {\\'user\\': \\'CharlesColeman\\', \\'comment\\': \"> Do you act on this information? Is there really much you can do to mitigate the effects?Couldn\\'t you run a HEPA filter to reduce the particulates?https://phys.org/news/2018-09-indoor-hepa-filters-significan...\"}, {\\'user\\': \\'sujNansnam\\', \\'comment\\': \\'If you have central air, you can put a good filter in your air return. If you don’t, you can buy a standalone air purifier.\\'}, {\\'user\\': \\'leonroy\\', \\'comment\\': \"Any idea how good the Awair monitors are? I recall a report saying they were just so-so but Awair recently updated them to be more accurate.I personally use an IQAir Air Visual which is highly rated and meant to be very accurate as far as consumer grade stuff goes. It\\'s solid, reliable and the iOS app has been great.That said after installing piHole I noticed it making 17000 DNS requests a day to a non-existent host:\\\\nhttps://imgur.com/tPgwGoKExplains why the DNS Resolver on my router (pfSense) kept crashing at least.\"}, {\\'user\\': \\'skocznymroczny\\', \\'comment\\': \\'I have Xiaomi Mijia Air Detector and Xiaomi Mi Purifier 2S. The air detector reports CO2, PM2.5 and TVOC, Purifier reports only PM2.5.\\'}, {\\'user\\': \\'fossuser\\', \\'comment\\': \"I have an Awair and two Foobots, they\\'re basically completely unreliable and the software for them is pretty bad.I\\'ve been tempted to get the purple sensors because at least the purple map seems reliable (so maybe their stuff is better?).\"}, {\\'user\\': \\'ng12\\', \\'comment\\': \"I have an Awair. I don\\'t really trust the baseline values but I do trust the deltas. I mostly use it to inform me when I should open a window or turn the air purifier or humidifier on.\"}, {\\'user\\': \\'doitLP\\', \\'comment\\': \\'I have a uHoo and it’s been great. The readings are inline with some control sensors I got to test the readings.\\'}, {\\'user\\': \\'fizwhiz\\', \\'comment\\': \\'Dylos AQM is the gold standard. It\\\\\\'s pricey though and has an old school interface (no fancy UI, IoT or \"AI\").\\'}, {\\'user\\': \\'louwrentius\\', \\'comment\\': \"I have a Dylos model, but some Dutch evaluation of a couple of models weren\\'t too happy with the accuracy afaik.\"}, {\\'user\\': \\'JesseAldridge\\', \\'comment\\': \"Here\\'s a map of PM2.5 levels in San Francisco for those interested: https://hoodline.com/2015/04/should-you-be-worried-about-air...\"}, {\\'user\\': \\'rahuldottech\\', \\'comment\\': \" This really bothers me. I live in a VERY polluted place, and unfortunately moving away won\\'t be an option for me for at least half a decade. What can I do to minimise the health effects of such an atmosphere? I\\'m planning on getting an indoor air filter for my home.\"}, {\\'user\\': \\'cameldrv\\', \\'comment\\': \"Buy a cheap PM detector (There are a few on Amazon using the Plantower sensor that are ~$50.)  Buy any HEPA air filter for your home.  Buy the best cabin air filter you can for your car (Bosch makes HEPA filters for some cars), and try to get your office to install something, or just buy one for your desk.The hard math of it is that no matter what you do, you aren\\'t going to be able to reduce your exposure by more than 75% or so, because you have to go outside sometimes, so going super high end on filtration makes essentially no difference in terms of total exposure.\"}, {\\'user\\': \\'CharlesColeman\\', \\'comment\\': \"> The hard math of it is that no matter what you do, you aren\\'t going to be able to reduce your exposure by more than 75% or so, because you have to go outside sometimes, so going super high end on filtration makes essentially no difference in terms of total exposure.Couldn\\'t you get a mask for outdoor use?https://www.guidingtech.com/62349/whats-difference-n95-n99-p...\"}, {\\'user\\': \\'cameldrv\\', \\'comment\\': \"Sure, but what about when you eat?  What about when you\\'re exercising?  My point is that caring much about filtration efficiency quickly stops mattering after you\\'ve done the obvious things, because there are simply going to be times where you\\'re not breathing filtered air, and those will very quickly become your main source of exposure.This also means that if you feel like you need to get a mask, you should probably get the most comfortable, least restrictive one, even with a worse rating because (say) 90% filtration all the time is better than 99% filtration 80% of the time (if the discomfort causes you to take it off 20% of the time)\"}, {\\'user\\': \\'bluGill\\', \\'comment\\': \"You can. However a mask on your face is not comfortable and so in practice I doubt you would wear it unless there was great need.I wore a mask all day Saturday while working on the insulation in my attic. I can report it was easier to breathe at the end of the day than times I\\'ve been in there without a mask.  (fiber glass is not easy on the lungs - though there may be some other factor not related to the mask involved). However I also had red marks across the back of my head where the bands were digging in. It was also more tiring to breathe wearing the mask all day.\"}, {\\'user\\': \\'graeme\\', \\'comment\\': \\'Starts with monitoring. Awair or laseregg are good quality monitors. Then you can assess how well filters work.I think there are masks you can use outside too. You can also check which times of day/days are worst. And which streets. You can carry the laseregg around for local measures.\\'}, {\\'user\\': \\'9dl\\', \\'comment\\': \\'Just google brands and find that they may be not so accurate or may be calibrated for some specific region of Chinahttps://smartairfilters.com/en/blog/how-accurate-are-common-...So may be better solution are local laboratories with calibrated equipmentMasks are tricky.Most \"light\" masks are for huge particles and can\\\\\\'t defend against most of dangerous chemicalsMilitary and science masks are working good against some chemicals and do not protect from another. Except solutions with O2 tanks on your back\\'}, {\\'user\\': \\'bearforcenine\\', \\'comment\\': \\'PurpleAir also makes an indoor air quality sensor that measures particulate matter: https://www2.purpleair.com/products/purpleair-pa-i-indoorNot sure how it compares with Awair or laseregg.I have no affiliation with PurpleAir, but they are pretty popular in Utah.\\'}, {\\'user\\': \\'4ec0755f5522\\', \\'comment\\': \\'Find one that can filter nano particles.https://www.bbc.com/future/article/20191113-the-toxic-killer...\\'}, {\\'user\\': \\'cameldrv\\', \\'comment\\': \\'Essentially all air filters filter nano particles.https://smartairfilters.com/en/blog/can-hepa-filters-capture...\\'}, {\\'user\\': \\'carapace\\', \\'comment\\': \"That\\'s brutal!  We\\'re poisoning ourselves.\"}, {\\'user\\': \\'puranjay\\', \\'comment\\': \"I\\'m assuming Delhi?Not much you can do except get out. I\\'ve already started moving out for the first 2-3 weeks of November and working from a city like Panjim\"}, {\\'user\\': \\'Richard_East\\', \\'comment\\': \\'Its not difficult, firstly buy a monitor which tracks CO2, PM2.5, VOC:https://www.aliexpress.com/item/32887570197.html?spm=a2g0s.9...Tracking CO2 is very useful for internal spaces.And an Air purifier: https://www.amazon.com/Purifier-Display-Formaldehyde-Sterili...\\'}, {\\'user\\': \\'dmos62\\', \\'comment\\': \"I\\'m not sure what _VERY_ polluted means, but you might consider taking up more physical activity. On GCN youtube cycling channel they argued (including interviews with some health professionals) that even if you live in a city with considerable pollution, the positive effects of commuting on a bicycle outweigh the negative effects of air pollution. They were primarily talking about Britain-scale pollution of course. The principle might change if transfered to a more extreme environment. Something to look into.\"}, {\\'user\\': \\'koopuluri\\', \\'comment\\': \\'My hunch is OP lives in an Indian metro. I absolutely do not recommend commuting on a bike or exposing self to outdoor air in any way during a commute in an Indian metro.\\'}, {\\'user\\': \\'acd\\', \\'comment\\': \\'Most small particles are bad for health.Small particle emissions can be anything, diesel cars emissions, stone dust and flour from bakeries. All small particles are bad for the lungs. Long term exposure of air pollution will lead to health problems.\\'}, {\\'user\\': \\'rbavocadotree\\', \\'comment\\': \"From the original source:> Stock market returns are lower on polluted days.I don\\'t want to dismiss the entire article, but I think this points to possibility that there is some bad statistics going on here. I don\\'t see how daily stock returns are proof of, or even related to, cognitive ability on a daily basis.This is exactly the type of finding you\\'d expect with p-hacking.\"}, {\\'user\\': \\'andy_ppp\\', \\'comment\\': \"Maybe people are more negative because of traffic, noise and frustrated about getting to work later. I find it hard to imagine a way to control for this short of making people breathe these substances separately and seeing if they actually do have lower IQs. You can then control for the other factors. These all seem to be epidemiological studies that we can\\'t show the pollution is for sure the root cause. It could, for example, be that pollution is 25% of the result for example with more noise, traffic, irritation etc. being the other 75%.\"}, {\\'user\\': \\'lazyjones\\', \\'comment\\': \\'This is probably just a coincidence. Stock markets perform lower on Mondays: https://www.macroption.com/stock-market-performance-volatili...Traffic is probably generally higher on Mondays, though I have only anecdotal evidence.\\'}, {\\'user\\': \\'cowsandmilk\\', \\'comment\\': \\'The journal article explicitly calls out day of week and controls for it...\\'}, {\\'user\\': \\'ajross\\', \\'comment\\': \\'Heh, a rare example of the \"proof of correlation isn\\\\\\'t proof of the absence of causation\" fallacy.  No reason that stock markets couldn\\\\\\'t perform worse on Mondays because of the extra traffic pollution.\\'}, {\\'user\\': \\'jjeaff\\', \\'comment\\': \"But it\\'s not like companies provide daily sales performance data to trade on. Markets move on speculation. They aren\\'t actually pegged to company performance.How would lower cognitive ability make markets move lower on a daily basis? All I can think is higher pollution creating greater pessimism among traders.\"}, {\\'user\\': \\'mc3\\', \\'comment\\': \\'??? Who ever said correlation => not causation.\\'}, {\\'user\\': \\'throwaway2048\\', \\'comment\\': \\'Pretty much every internet comment section for the last 2 decades.\\'}, {\\'user\\': \\'mc3\\', \\'comment\\': \\'I don\\\\\\'t think so. `Correlation => Causation` is used all the time - this is the bread and butter of clickbait headlines and articles \"new study shows that...\", but `Correlation => ^Causation` requires some sophistication to state ... while being wrong at the same time. Maybe a tactic used to mislead? I haven\\\\\\'t seen it ever used.To be clear `Correlation => ^Causation` is different to `Correlation => TRUE`. (In other words, there is nothing you can deduce from correlation alone).\\'}, {\\'user\\': \\'cowsandmilk\\', \\'comment\\': \\'Read the linked journal article; the authors don’t actually claim it is about cognitive ability, they attribute it to lower risk taking on those days.\\'}, {\\'user\\': \\'rbavocadotree\\', \\'comment\\': \"As someone who works for a quantitative hedge fund, you wouldn\\'t believe how many similar results I see of researchers showing a statistically significant predictor of stock market returns. Almost every single one of them is garbage.But your point stands. The paper has nothing to do with cognitive ability. So why is it being used as evidence?\"}, {\\'user\\': \\'avip\\', \\'comment\\': \\'Is it even possible for a statistically significant predictor of stock market to be both known to the public and not garbage?\\'}, {\\'user\\': \\'OnlineGladiator\\', \\'comment\\': \"> As someone who works for a quantitative hedge fund, you wouldn\\'t believe how many similar results I see of researchers showing a statistically significant predictor of stock market returns. Almost every single one of them is garbage.Are you able to share any that aren\\'t (or weren\\'t) garbage?\"}, {\\'user\\': \\'rbavocadotree\\', \\'comment\\': \"Here\\'s a disappointingly simple and well known one: Momentum. It produces real, statistically significantly, excess risk-adjusted returns over an index.The remarkable thing is that it has been well known for decades, and continues to work. Many fortunes have been made by systematically exploiting it.\"}, {\\'user\\': \\'jefftk\\', \\'comment\\': \"Ones that aren\\'t garbage are valuable!  Until the rest of the market adjusts, and then they\\'re garbage.\"}, {\\'user\\': \\'jjeaff\\', \\'comment\\': \\'Exactly, there is no actionable publicly known indicator. Because the moment it becomes known by a large enough group of traders, it becomes useless.\\'}, {\\'user\\': \\'OnlineGladiator\\', \\'comment\\': \"He could share past insights that are no longer relevant.  I obviously don\\'t expect him to give away a stock tip worth millions of dollars.\"}, {\\'user\\': \\'sgustard\\', \\'comment\\': \\'To clarify, the paper studied \"air quality in the vicinity of Wall Street\".\\'}, {\\'user\\': \\'alexandercrohde\\', \\'comment\\': \\'\"I don\\\\\\'t want to dismiss the entire article\"Good. Because you can\\\\\\'t cherry-pick one dubious-seeming journal article and use it as a justification to ignore several completely unaffiliated articles.\\'}, {\\'user\\': \\'ajross\\', \\'comment\\': \"It\\'s a review article.  The paper you mention was just one of many cited.  And sure, those are all different papers written by different authors and it\\'s surely not unlikely that there are errors in there.  But the reason for reviews like this one is to point out that all these different results support the same basic hypothesis.As far as stocks, specificaly: really?  People with cognitive trouble make bad stock picks all the time.  Most of us have grandparents who have exhibited exactly this kind of mistake.  While it\\'s surely true that the bulk of analyst-driven trades are checked by methods that aren\\'t sensitive to pollution (or just by analysts in different climates), there are certainly enough single-decider trades going on to show a small effect like this if it exists.I mean, no, one oddball stock market paper doesn\\'t prove much of anything.  But in combination with a bunch of other research like this, it\\'s worth taking seriously.\"}, {\\'user\\': \\'pmart123\\', \\'comment\\': \\'Reading his bullet points, I am not sure why the correlation between daily stock market returns and air quality supports the argument that air pollution reduces IQ.\\'}, {\\'user\\': \\'igor47\\', \\'comment\\': \"Plug: if you care about this topic and are interested in working on this problem, we\\'re hiring at Aclima. We\\'ve got contracts with the major air quality regulators in California, and are looking to scale. Ping me at igor@aclima.io\"}, {\\'user\\': \\'maelito\\', \\'comment\\': \\'Do you work with https://plumelabs.com ?\\'}, {\\'user\\': \\'calibas\\', \\'comment\\': \"I highly suspect toluene has something to do with it, seeing as how it\\'s a potent neurotoxin and a byproduct of burning fossil fuels.\"}, {\\'user\\': \\'mc3\\', \\'comment\\': \\'Sydney is having a bad day :-( https://aqicn.org/city/sydney/\\'}, {\\'user\\': \\'larnmar\\', \\'comment\\': \\'If the effect were present, and as large as implied, you’d expect low IQ test results in ultra-polluted Chinese cities such as Shanghai and Beijing. And yet... http://www.city-data.com/forum/world/2348902-china-iq-map-pr...\\'}, {\\'user\\': \\'glofish\\', \\'comment\\': \\'No that is not what it is claimed. Pollution reduces your IQ, not that it makes your IQ lower than someone else\\\\\\'s.The people living in those cities form a so-called \"self-selecting\" sample. They are probably, on average better educated, and they recognize the value of education much better. They already would score higher than the others, that\\\\\\'s why they moved to the city.It might just as well be that the same people would score far higher in a non-polluted city.\\'}, {\\'user\\': \\'gnode\\', \\'comment\\': \"The original post doesn\\'t mention IQ. IQ is a terrible metric for studying short-term cognitive effects.\"}, {\\'user\\': \\'glofish\\', \\'comment\\': \"IQ has a bad rap (rightfully so, thus no disagreement there). In the cited works they use tests that in the past were called IQ tests - though here all are called cognitive-scores.Why wouldn\\'t IQ tests be great for studying short term cognitive effects? I would trust their values for these type of studies the most: how does lack of sleep, being drunk, after exercise, etc affect your ability to solve abstract problems.It has far fewer variables to account for than predicting someone\\'s long term success.\"}, {\\'user\\': \\'gnode\\', \\'comment\\': \"> Why wouldn\\'t IQ tests be great for studying short term cognitive effects?IQ testing is designed to test for intelligent behaviour, which is largely based on long-term neurological development. The connections in the brain, densities of neurons, and long-term potentiations don\\'t change greatly on a short-term basis. Measures which fluctuate based on spot-performance factors are typically deemed unreliable for the purpose of IQ testing.Cognitive deficits caused by exposure to drugs and other substances tend to impact functioning of the neurons, and are detrimental to measures of intelligence, but are more appropriately measured by more specific tests, which focus on factors such as reaction time, or motor accuracy. Consider the cognitive tests performed by police when driving under the influence of alcohol is expected, for instance. Such cognitive tests also help provide a clearer picture of how a substance affects the brain.\"}, {\\'user\\': \\'glofish\\', \\'comment\\': \\'I believe that IQ tests (at least the majority of those that I took or seen) are mostly built as abstract problem-solving tasks, similar to those needed to be productive in modern society. Not sure how one would even measure the \"intelligent behavior\" that you mention.In addition, to me, it sounds that you are arguing that a test on which you do worse when tired, sleepy, hungry etc. is not an appropriate test because it fluctuates depending on your state of mind. I don\\\\\\'t get that.\\'}, {\\'user\\': \\'gnode\\', \\'comment\\': \\'> Not sure how one would even measure the \"intelligent behavior\" that you mention.I meant behaviour in the general psychological / cognitive sense; how an actor responds to stimuli.Current popular IQ tests are designed to test many facets of intelligent behaviour -- verbal comprehension, arithmetic, working memory, symbol searching, etc. Abstract problem solving is only one category of testing.I\\\\\\'m arguing that to study short-term cognitive deficits, it makes more sense to use other measures of cognition. It appears this is actually what was done, but this was incorrectly re-reported as \"IQ\".\\'}, {\\'user\\': \\'TrainedMonkey\\', \\'comment\\': \\'Large cities tend to concentrate IQ as smart young adults come to seek better fortune. Furthermore Chinese party selection system, which involves standardized tests and relocation of gifted children to better schools in big cities also contributes heavily.\\'}, {\\'user\\': \\'ErikAugust\\', \\'comment\\': \\'Pardon my ignorance, but how is this IQ data obtained? It is reported by the government? Are IQ tests standardized?\\'}, {\\'user\\': \\'learc83\\', \\'comment\\': \">IQ tests standardized?IQ tests can\\'t be standardized across cultures. Even something like Raven\\'s Progressive Matrices has a cultural component. https://www.apa.org/monitor/feb03/intelligenceAlso China has some issues with the way they report scholastic achievement that make their results appear higher than they should. China is very selective about which students take standardized tests that are used for global comparisons--they aren\\'t random samples.\"}, {\\'user\\': \\'zionic\\', \\'comment\\': \\'Just because a test might have some component you can vaguely articulate as having some cultural influence does not make the test itself invalid for comparison across cultures. Claims that basic pattern recognition is somehow not a valid means of assessment across cultures are dubious at best.\\'}, {\\'user\\': \\'learc83\\', \\'comment\\': \">does not make the test itself invalid for comparison across culturesIf you can\\'t accurately quantify the cultural component, then yes it does.>Claims that basic pattern recognition is somehow not a valid means of assessment across cultures are dubious at best.Basic pattern recognition isn\\'t the only thing that\\'s being measured--that\\'s the problem. Even something as simple as how often a student has been exposed to a matrix of rows and columns has an impact on performance. Repeated exposure to similar tests also increases performance.\"}, {\\'user\\': \\'glofish\\', \\'comment\\': \\'All IQ tests are (ought to be) standardized for the target population.The median IQ should be 100, with a standard deviation of 15.If the median IQ is not 100 over the population, the test is flawed.\\'}, {\\'user\\': \\'INGELRII\\', \\'comment\\': \"Intelligence researches don\\'t use normalized IQ  when they compare intelligence across target populations or across different times.They use raw IQ score data.\"}, {\\'user\\': \\'kingkawn\\', \\'comment\\': \\'Seems hilarious to assume they can be standardized within a culture too, whatever a culture may be.\\'}, {\\'user\\': \\'glofish\\', \\'comment\\': \"but that\\'s what IQ test are, standardized tests.not sure where hilarity comes into play ... it has well defined statistical propertiesperhaps you mean that the results of IQ tests can be, and often are grossly misinterpreted, that is not related to standardization\"}, {\\'user\\': \\'cookiecaper\\', \\'comment\\': \\'Yeah, the reality is that you\\\\\\'ll never be able to get reliable/unadulterated data on something that is both as personally impactful and as loosely defined as \"intelligence\". Everyone is going to bias toward interpreting the mode of thought that is most similar to their own as the definition of \"intelligent\".Very few adults are comfortable with the idea that any substantial group of people are objectively more intelligent than themselves, because admitting that comes uncomfortably close to relinquishing autonomy, at least in contemporary Western understanding that says the more intelligent should rule.European history throughout the 20th century shows the horrifying, depraved danger in capitulating to a ruling intelligentsia. We should earnestly hope that no group allows their self-interest, protected by native instinct, to be overridden by the despotic, unfeeling ideologies of \"intelligent\" rulership. That philosophy has shown itself over and over again to be a quick route to starvation, genocide, and widespread desolation.Nevertheless, IQ is the most general/objective measurement we have, and it seems to be a reasonably good approximation on aggregate.\\'}, {\\'user\\': \\'svara\\', \\'comment\\': \"> European history throughout the 20th century shows the horrifying, depraved danger in capitulating to a ruling intelligentsia.If you\\'re referring to communism and national socialism here, those were rabidly anti-intellectual (the later particularly so).\"}, {\\'user\\': \\'INGELRII\\', \\'comment\\': \\'The whole point of IQ is that it tests common factor (as in factor analysis) underlying different tests. There is known correlation between different testing methods.\\'}, {\\'user\\': \\'TrainedMonkey\\', \\'comment\\': \"It\\'s official data released by Chinese. Which helps explain why Han Chinese are on top of the list.\"}, {\\'user\\': \\'oiteresters\\', \\'comment\\': \\'I don’t think that explains it. Especially when you compare results with other countries with a large Chinese population like Singapore, Malaysia, and Indonesia.\\'}, {\\'user\\': \\'BurningFrog\\', \\'comment\\': \\'How long have they been that polluted though?Looks like that map is from 2005.\\'}, {\\'user\\': \\'olivermarks\\', \\'comment\\': \\'So logically living and working in the countryside is optimum for your IQ rather than polluted cities and areas?\\'}, {\\'user\\': \\'electricslpnsld\\', \\'comment\\': \\'The countryside can have some bad environmental problems too (expansion of fracking in the rural Midwest of America, etc).\\'}, {\\'user\\': \\'javagram\\', \\'comment\\': \\'Does fracking cause much air pollution of the type discussed in the article? I thought the main issue was groundwater and earth quakes , and methane gas release / flaring.Plus there are many countryside areas with no oil.\\'}, {\\'user\\': \\'Scipio_Afri\\', \\'comment\\': \\'Well to their point, there is more wood, brush or other similar types of burning in rural areas. Especially wood in the US as it is the source of heating homes in rural areas. Bonfires, etc are also more likely.\\'}, {\\'user\\': \\'thedudeabides5\\', \\'comment\\': \\'Anyone seen analysis or similar data for noise pollution?\\'}, {\\'user\\': \\'yagurastation\\', \\'comment\\': \\'This open source air quality citizen *science project now also has noise sensors going: https://luftdaten.info/laermsensor-bauen/\\'}, {\\'user\\': \\'digitalsushi\\', \\'comment\\': \"short of plants, i want to find a device i can put in my area that reduces the co2 in the air.  (my space doesn\\'t support plants, it\\'s too cold).\"}, {\\'user\\': \\'dheelus\\', \\'comment\\': \"There\\'s a decent amount of research that indicates that indoor air quality doesn\\'t significantly improve with indoor plants. \\\\nhttps://time.com/5105027/indoor-plants-air-quality/\"}, {\\'user\\': \\'cwkoss\\', \\'comment\\': \\'Most CO2 scrubbing systems either use plants (sometimes algae) or expend chemical ingredients (not very practical for long term daily use).  Id recommend looking at systems designed for survivalist bunkers.I did find this interesting project for using a thermosiphon to separate CO2 from air which looks pretty cool, but would likely require a good bit of sun to work well.  I imagine it could work with an electric heating element instead of the sun, however.https://www.instructables.com/id/Solar-powered-CO2-Scrubber/\\'}, {\\'user\\': \\'mattjaynes\\', \\'comment\\': \\'David Heinemeier Hansson (DHH of Rails fame) gave a great talk on this recently, though he focused more on indoor air quality and its cognitive impact:https://www.youtube.com/watch?v=MRqh8oLY7Ik\\'}, {\\'user\\': \\'hinkley\\', \\'comment\\': \\'My takeaway from this: If you live in new construction (owner, or renter), buy new furniture in the spring/fall when you can leave the windows open. Same for paint.\\'}, {\\'user\\': \\'gridlockd\\', \\'comment\\': \"All of these publications are junk science, nothing but spurious correlations, using the nonsensical linear no-threshold model.(waiting for the internet to correct me so I don\\'t have to do any research myself)\"}, {\\'user\\': \\'bryanmgreen\\', \\'comment\\': \"I wish the argument against pollution would be the simplest one.Go to a massively unpopulated area and just breath. Feel the difference? Isn\\'t it intoxicating?Who gives a crap if umpires make worse calls? Just fight pollution because it\\'s obvious pollution is bad for humans and the planet.Normally I\\'m all for extra evidence, but in a situation like this come on. It\\'s basically like immaterial evidence against genocide by saying, I don\\'t know, saying the increased production of bullets to commit genocide reduces national science and health budgets by 12% (fake stat just for context). Who cares! It\\'s just plain bad./rant(ps - rant isn\\'t against the article, but a broader frustration about the topic)\"}, {\\'user\\': \\'swiley\\', \\'comment\\': \\'We need to quantify how bad pollution is exactly. How many people should be allowed to die because the ICE ambulance can’t reach them or the doctor isn’t able to travel to the hospital or food isn’t able to be delivered for a reasonable price etc.\\'}, {\\'user\\': \\'bryanmgreen\\', \\'comment\\': \\'Want some numbers from our government about pollution?New coal legislation was pushed through with an intensive study by the EPA....They said it would kill up to 14,000 people.1) https://www.epa.gov/sites/production/files/2018-08/documents...2) https://www.nytimes.com/2018/08/21/climate/epa-coal-pollutio...\\'}, {\\'user\\': \\'dmos62\\', \\'comment\\': \"I like thinking of it as waste, as opposed to bad. Good-bad is the moral realm. Waste is the realm of practicality. The danger is in causing defensiveness, due to judgment, in people whose open-mindedness would be beneficial. I\\'m not being apologetic of anyone. It\\'s just that this doesn\\'t have to happen through a dramatic conflict of good v. evil (which probably wouldn\\'t work anyway); there are much better alternatives.I agree with everything you said. Just wanted to stack my rant on yours there.\"}, {\\'user\\': \\'licebmi__at__\\', \\'comment\\': \\'I would like to agree with you as I also think trying to find a pragmatic solution is easier than thinking in abstract terms like good/bad, but ultimately waste just takes us to questions about what is being wasted, and wasteful to who. It\\\\\\'s a no brainer than relocating to somewhere to avoid emissions can be seen as wasteful for some industries. Besides, framing waste in purely monetary terms, just means that we need to balance the equation for profit, not to what is best for people. The question of alignment between profit and human welfare is still am ethical one.You haven\\\\\\'t reduced the complexity, just hidden it behind the facade of taking \"pragmatic economic decisions\".\\'}, {\\'user\\': \\'11235813213455\\', \\'comment\\': \"it\\'s just that the amount of waste is way too large for the environment to digestSolution: everyone must consume less, cut unnecessary things, and there are many in most people lifestyles\"}, {\\'user\\': \\'larnmar\\', \\'comment\\': \\'> I wish the argument against pollution would be the simplest oneArguments against pollution would be valuable if someone were actually arguing in favour of pollution.\\'}, {\\'user\\': \\'known\\', \\'comment\\': \\'Poverty also reduces IQ by 13 points https://archive.is/bmj11\\'}, {\\'user\\': \\'larnmar\\', \\'comment\\': \\'Has this study been replicated? It seems a lot like one of those terrible “priming” studies that won’t.Statistics aside, the experimental methodology is terrible. You ask a bunch of people to think about being poor, or not, and that’s supposed to be a simulation of being poor or not?\\'}, {\\'user\\': \\'9dl\\', \\'comment\\': \\'https://en.wikipedia.org/wiki/Stanford_marshmallow_experimen...> The replication suggested that economic background, rather than willpower, explained the other halfYeahAnd 250k/y \"poor\"https://www.theatlantic.com/national/archive/2010/09/the-sel...https://www.theatlantic.com/national/archive/2010/09/in-defe...\\'}, {\\'user\\': \\'brenden2\\', \\'comment\\': \"This is blogspam. Here\\'s the original post: https://patrickcollison.com/pollution\"}, {\\'user\\': \\'CelestialTeapot\\', \\'comment\\': \\'That would be a much better link than the one provided. Wasting energy on the \"IQ\" issue is not productive to the problem presented: that air pollution does, indeed, cause (hopefully only temporary) cognitive decline. It can be measured on a small scale, for example, see the Allen et al. [1] article showing cognitive decline in an office environment (conventional building vs Green+ building).1. https://dash.harvard.edu/bitstream/handle/1/27662232/4892924...\\'}, {\\'user\\': \\'wizzwizz4\\', \\'comment\\': \"Should I upvote despite that, or wait for somebody to post the original? I\\'m not sure of HN\\'s norms here.\"}, {\\'user\\': \\'dang\\', \\'comment\\': \"Better not to post the original if there\\'s already an active thread, because that will either have no effect or split the discussion. We usually change URLs in cases like this. Best is to email hn@ycombinator.com because then we\\'re sure to see it.\"}, {\\'user\\': \\'floatingatoll\\', \\'comment\\': \\'You can upvote and also email the mods using the Contact link in the footer; they can swap out links easily.\\'}, {\\'user\\': \\'najarvg\\', \\'comment\\': \"Wasn\\'t the original link already posted under - https://news.ycombinator.com/item?id=21560916 yesterday?\"}, {\\'user\\': \\'dang\\', \\'comment\\': \\'Changed from https://marginalrevolution.com/marginalrevolution/2019/11/ai.... Thanks!\\'}, {\\'user\\': \\'dang\\', \\'comment\\': \\'Url changed from https://marginalrevolution.com/marginalrevolution/2019/11/ai..., which points to this.\\'}, {\\'user\\': \\'ng12\\', \\'comment\\': \\'Things like this make it really hard to follow a discussion as it evolves over time.\\'}, {\\'user\\': \\'dang\\', \\'comment\\': \\'It\\\\\\'s a tradeoff. Yes there\\\\\\'s some churn, though we do what we can to minimize it—including posting the URL change in the thread. The benefit of linking to original sources is mostly greater than the cost of the churn. And don\\\\\\'t forget that complaints about \"blogspam\" also add noise to a thread.\\'}, {\\'user\\': \\'LessDmesg\\', \\'comment\\': \"Pollution, IQ, who cares?!? We\\'ve got carbon dioxide to fight, a benign gas that for some reason we believe is the root of all evil! Climate change is the most important issue of our time, not pollution (which is actually real and not forged by IPCC, but who cares about reality when there is Greta Thunberg)\"}, {\\'user\\': \\'no5757\\', \\'comment\\': \\'Ok Boomer\\'}, {\\'user\\': \\'PeterStuer\\', \\'comment\\': \\'So does this mean we can now expect populist politicians to crank up PM2.5 emitters at a massive scale prior to elections?\\'}, {\\'user\\': \\'hombre_fatal\\', \\'comment\\': \"No need. Some people gleefully accept and partake in air pollution.Out in the countryside where my parents live in Texas, people are even proud that they burn their trash as if they\\'re sticking it to some sort of treehugger group rather than to the inner lining of their (and all their neighbors\\' and loved ones\\') lungs.\"}, {\\'user\\': \\'dredmorbius\\', \\'comment\\': \\'Rolling coal.https://en.wikipedia.org/wiki/Rolling_coal\\'}, {\\'user\\': \\'WhompingWindows\\', \\'comment\\': \"You mean diesel engines? They\\'re trying that in France.\"}, {\\'user\\': \\'SuperFerret\\', \\'comment\\': \\'Rural America says Hi!\\'}, {\\'user\\': \\'mberning\\', \\'comment\\': \"I\\'m confused - is IQ a reliable way to measure intelligence between individuals, or is it a culturally biased measure that is scientifically bankrupt? I guess it depends on the context.\"}, {\\'user\\': \\'glofish\\', \\'comment\\': \\'whatever skills IQ tests measure these do correlate (and better than other readily measurable predictors) with various long term successeswhat throws most people off is that the skill that IQ test measure is not a just an innate ability but a learned skill that is in demand and often needed for success in that society\\'}, {\\'user\\': \\'pkaye\\', \\'comment\\': \\'I thought IQ was not a reliable measure of anything?\\'}, {\\'user\\': \\'ytNumbers\\', \\'comment\\': \"I wouldn\\'t call IQ a completely useless yardstick. Likely through examining all of the evidence regarding IQ and military performance, the United States government has come to the conclusion that an IQ below a certain level disqualifies the person for military service.Unsurprisingly, US law is a bit complicated on this, but to summarize, it implies that an IQ below 81 (“tenth percentile”) is disqualifying, and dictates that persons with IQ\\'s between 81 and 93 (“thirty-first percentile”) cannot comprise more than 20% of all enlistees.\"}]'"
      ]
     },
     "execution_count": 89,
     "metadata": {},
     "output_type": "execute_result"
    }
   ],
   "source": [
    "data"
   ]
  },
  {
   "cell_type": "code",
   "execution_count": 15,
   "metadata": {},
   "outputs": [
    {
     "data": {
      "text/plain": [
       "''"
      ]
     },
     "execution_count": 15,
     "metadata": {},
     "output_type": "execute_result"
    }
   ],
   "source": [
    "toyData.readline()"
   ]
  },
  {
   "cell_type": "code",
   "execution_count": 18,
   "metadata": {},
   "outputs": [],
   "source": [
    "import ast\n",
    "import json"
   ]
  },
  {
   "cell_type": "code",
   "execution_count": 91,
   "metadata": {},
   "outputs": [
    {
     "data": {
      "text/html": [
       "<div>\n",
       "<style scoped>\n",
       "    .dataframe tbody tr th:only-of-type {\n",
       "        vertical-align: middle;\n",
       "    }\n",
       "\n",
       "    .dataframe tbody tr th {\n",
       "        vertical-align: top;\n",
       "    }\n",
       "\n",
       "    .dataframe thead th {\n",
       "        text-align: right;\n",
       "    }\n",
       "</style>\n",
       "<table border=\"1\" class=\"dataframe\">\n",
       "  <thead>\n",
       "    <tr style=\"text-align: right;\">\n",
       "      <th></th>\n",
       "      <th>user</th>\n",
       "      <th>comment</th>\n",
       "    </tr>\n",
       "  </thead>\n",
       "  <tbody>\n",
       "    <tr>\n",
       "      <th>0</th>\n",
       "      <td>yagurastation</td>\n",
       "      <td>Anyone interested should also check out the op...</td>\n",
       "    </tr>\n",
       "    <tr>\n",
       "      <th>1</th>\n",
       "      <td>simonebrunozzi</td>\n",
       "      <td>For people living in the US like me, this is w...</td>\n",
       "    </tr>\n",
       "    <tr>\n",
       "      <th>2</th>\n",
       "      <td>QuanticSausage</td>\n",
       "      <td>I don't know you, but in every lecture in coll...</td>\n",
       "    </tr>\n",
       "    <tr>\n",
       "      <th>3</th>\n",
       "      <td>ketzo</td>\n",
       "      <td>Can’t find a source, but there’s a similar thi...</td>\n",
       "    </tr>\n",
       "    <tr>\n",
       "      <th>4</th>\n",
       "      <td>Scene_Cast2</td>\n",
       "      <td>How do you all monitor air quality?I personall...</td>\n",
       "    </tr>\n",
       "  </tbody>\n",
       "</table>\n",
       "</div>"
      ],
      "text/plain": [
       "             user                                            comment\n",
       "0   yagurastation  Anyone interested should also check out the op...\n",
       "1  simonebrunozzi  For people living in the US like me, this is w...\n",
       "2  QuanticSausage  I don't know you, but in every lecture in coll...\n",
       "3           ketzo  Can’t find a source, but there’s a similar thi...\n",
       "4     Scene_Cast2  How do you all monitor air quality?I personall..."
      ]
     },
     "execution_count": 91,
     "metadata": {},
     "output_type": "execute_result"
    }
   ],
   "source": [
    "df = pd.DataFrame(ast.literal_eval(data))\n",
    "df.head()"
   ]
  },
  {
   "cell_type": "code",
   "execution_count": 30,
   "metadata": {},
   "outputs": [
    {
     "data": {
      "text/plain": [
       "0      How do you all monitor air quality?<p>I person...\n",
       "1      Any idea how good the Awair monitors are? I re...\n",
       "2      The South Coast (California) Air Quality Manag...\n",
       "3      Anyone want to review this table and suggest a...\n",
       "4      Based on my reading of the table, the PurpleAi...\n",
       "                             ...                        \n",
       "100    <a href=\"https:&#x2F;&#x2F;en.wikipedia.org&#x...\n",
       "101    I&#x27;m confused - is IQ a reliable way to me...\n",
       "102    whatever skills IQ tests measure these do corr...\n",
       "103    I thought IQ was not a reliable measure of any...\n",
       "104    I wouldn&#x27;t call IQ a completely useless y...\n",
       "Name: comment, Length: 105, dtype: object"
      ]
     },
     "execution_count": 30,
     "metadata": {},
     "output_type": "execute_result"
    }
   ],
   "source": [
    "df['comment'].apply(lambda x: x.replace(\"<[^>]*>\", \"\"))"
   ]
  },
  {
   "cell_type": "code",
   "execution_count": 40,
   "metadata": {},
   "outputs": [],
   "source": [
    "htmlcomm=df.iloc[100, 1]"
   ]
  },
  {
   "cell_type": "code",
   "execution_count": 35,
   "metadata": {},
   "outputs": [],
   "source": [
    "from html.parser import HTMLParser"
   ]
  },
  {
   "cell_type": "code",
   "execution_count": 37,
   "metadata": {},
   "outputs": [],
   "source": [
    "parser= HTMLParser()"
   ]
  },
  {
   "cell_type": "code",
   "execution_count": 38,
   "metadata": {},
   "outputs": [],
   "source": [
    "parser.feed(htmlcomm)"
   ]
  },
  {
   "cell_type": "code",
   "execution_count": 42,
   "metadata": {},
   "outputs": [],
   "source": [
    "parser.handle_data(htmlcomm)"
   ]
  },
  {
   "cell_type": "code",
   "execution_count": 41,
   "metadata": {},
   "outputs": [
    {
     "data": {
      "text/plain": [
       "'<a href=\"https:&#x2F;&#x2F;en.wikipedia.org&#x2F;wiki&#x2F;Stanford_marshmallow_experiment\" rel=\"nofollow\">https:&#x2F;&#x2F;en.wikipedia.org&#x2F;wiki&#x2F;Stanford_marshmallow_experimen...</a><p>&gt; The replication suggested that economic background, rather than willpower, explained the other half<p>Yeah<p>And 250k&#x2F;y &quot;poor&quot;<p><a href=\"https:&#x2F;&#x2F;www.theatlantic.com&#x2F;national&#x2F;archive&#x2F;2010&#x2F;09&#x2F;the-self-pity-of-the-harvard-poor&#x2F;63755&#x2F;\" rel=\"nofollow\">https:&#x2F;&#x2F;www.theatlantic.com&#x2F;national&#x2F;archive&#x2F;2010&#x2F;09&#x2F;the-sel...</a><p><a href=\"https:&#x2F;&#x2F;www.theatlantic.com&#x2F;national&#x2F;archive&#x2F;2010&#x2F;09&#x2F;in-defense-of-the-self-pitying-wealthy-poor&#x2F;63777&#x2F;\" rel=\"nofollow\">https:&#x2F;&#x2F;www.theatlantic.com&#x2F;national&#x2F;archive&#x2F;2010&#x2F;09&#x2F;in-defe...</a>'"
      ]
     },
     "execution_count": 41,
     "metadata": {},
     "output_type": "execute_result"
    }
   ],
   "source": [
    "htmlcomm"
   ]
  },
  {
   "cell_type": "code",
   "execution_count": 43,
   "metadata": {},
   "outputs": [
    {
     "data": {
      "text/plain": [
       "'https:&#x2F;&#x2F;en.wikipedia.org&#x2F;wiki&#x2F;Stanford_marshmallow_experimen...&gt; The replication suggested that economic background, rather than willpower, explained the other halfYeahAnd 250k&#x2F;y &quot;poor&quot;https:&#x2F;&#x2F;www.theatlantic.com&#x2F;national&#x2F;archive&#x2F;2010&#x2F;09&#x2F;the-sel...https:&#x2F;&#x2F;www.theatlantic.com&#x2F;national&#x2F;archive&#x2F;2010&#x2F;09&#x2F;in-defe...'"
      ]
     },
     "execution_count": 43,
     "metadata": {},
     "output_type": "execute_result"
    }
   ],
   "source": [
    "import re\n",
    "re.sub(\"<[^>]*>\", \"\", htmlcomm)"
   ]
  },
  {
   "cell_type": "code",
   "execution_count": 49,
   "metadata": {},
   "outputs": [],
   "source": [
    "df['cleanComment']=df['comment'].apply(lambda html: BeautifulSoup(html).get_text())"
   ]
  },
  {
   "cell_type": "code",
   "execution_count": 47,
   "metadata": {},
   "outputs": [],
   "source": [
    "from bs4 import BeautifulSoup"
   ]
  },
  {
   "cell_type": "code",
   "execution_count": 52,
   "metadata": {},
   "outputs": [
    {
     "name": "stdout",
     "output_type": "stream",
     "text": [
      "https://en.wikipedia.org/wiki/Stanford_marshmallow_experimen...> The replication suggested that economic background, rather than willpower, explained the other halfYeahAnd 250k/y \"poor\"https://www.theatlantic.com/national/archive/2010/09/the-sel...https://www.theatlantic.com/national/archive/2010/09/in-defe...\n"
     ]
    }
   ],
   "source": [
    "print(df['cleanComment'].iloc[100])"
   ]
  },
  {
   "cell_type": "code",
   "execution_count": 54,
   "metadata": {},
   "outputs": [],
   "source": [
    "def removeLinks(data):\n",
    "    if 'href' in data: \n",
    "        return np.NaN\n",
    "    else:\n",
    "        return data"
   ]
  },
  {
   "cell_type": "code",
   "execution_count": 61,
   "metadata": {},
   "outputs": [],
   "source": [
    "df['cleanComment']=df['comment'].apply(removeLinks).dropna().apply(lambda x: BeautifulSoup(x).get_text())"
   ]
  },
  {
   "cell_type": "code",
   "execution_count": 58,
   "metadata": {},
   "outputs": [
    {
     "data": {
      "text/plain": [
       "(105, 3)"
      ]
     },
     "execution_count": 58,
     "metadata": {},
     "output_type": "execute_result"
    }
   ],
   "source": [
    "df.shape"
   ]
  },
  {
   "cell_type": "code",
   "execution_count": 64,
   "metadata": {},
   "outputs": [],
   "source": [
    "df.dropna(inplace=True)"
   ]
  },
  {
   "cell_type": "code",
   "execution_count": 66,
   "metadata": {},
   "outputs": [
    {
     "data": {
      "text/plain": [
       "(81, 3)"
      ]
     },
     "execution_count": 66,
     "metadata": {},
     "output_type": "execute_result"
    }
   ],
   "source": [
    "df.shape"
   ]
  },
  {
   "cell_type": "code",
   "execution_count": 67,
   "metadata": {},
   "outputs": [
    {
     "data": {
      "text/html": [
       "<div>\n",
       "<style scoped>\n",
       "    .dataframe tbody tr th:only-of-type {\n",
       "        vertical-align: middle;\n",
       "    }\n",
       "\n",
       "    .dataframe tbody tr th {\n",
       "        vertical-align: top;\n",
       "    }\n",
       "\n",
       "    .dataframe thead th {\n",
       "        text-align: right;\n",
       "    }\n",
       "</style>\n",
       "<table border=\"1\" class=\"dataframe\">\n",
       "  <thead>\n",
       "    <tr style=\"text-align: right;\">\n",
       "      <th></th>\n",
       "      <th>user</th>\n",
       "      <th>comment</th>\n",
       "      <th>cleanComment</th>\n",
       "    </tr>\n",
       "  </thead>\n",
       "  <tbody>\n",
       "    <tr>\n",
       "      <th>0</th>\n",
       "      <td>Scene_Cast2</td>\n",
       "      <td>How do you all monitor air quality?&lt;p&gt;I person...</td>\n",
       "      <td>How do you all monitor air quality?I personall...</td>\n",
       "    </tr>\n",
       "    <tr>\n",
       "      <th>3</th>\n",
       "      <td>PowerfulWizard</td>\n",
       "      <td>Anyone want to review this table and suggest a...</td>\n",
       "      <td>Anyone want to review this table and suggest a...</td>\n",
       "    </tr>\n",
       "    <tr>\n",
       "      <th>4</th>\n",
       "      <td>bearforcenine</td>\n",
       "      <td>Based on my reading of the table, the PurpleAi...</td>\n",
       "      <td>Based on my reading of the table, the PurpleAi...</td>\n",
       "    </tr>\n",
       "    <tr>\n",
       "      <th>6</th>\n",
       "      <td>9dl</td>\n",
       "      <td>&amp;gt;*Field R2&lt;p&gt;Under the table is definition ...</td>\n",
       "      <td>&gt;*Field R2Under the table is definition of R^2...</td>\n",
       "    </tr>\n",
       "    <tr>\n",
       "      <th>7</th>\n",
       "      <td>bearforcenine</td>\n",
       "      <td>Isn&amp;#x27;t the table sorted alphabetically?</td>\n",
       "      <td>Isn't the table sorted alphabetically?</td>\n",
       "    </tr>\n",
       "  </tbody>\n",
       "</table>\n",
       "</div>"
      ],
      "text/plain": [
       "             user                                            comment  \\\n",
       "0     Scene_Cast2  How do you all monitor air quality?<p>I person...   \n",
       "3  PowerfulWizard  Anyone want to review this table and suggest a...   \n",
       "4   bearforcenine  Based on my reading of the table, the PurpleAi...   \n",
       "6             9dl  &gt;*Field R2<p>Under the table is definition ...   \n",
       "7   bearforcenine        Isn&#x27;t the table sorted alphabetically?   \n",
       "\n",
       "                                        cleanComment  \n",
       "0  How do you all monitor air quality?I personall...  \n",
       "3  Anyone want to review this table and suggest a...  \n",
       "4  Based on my reading of the table, the PurpleAi...  \n",
       "6  >*Field R2Under the table is definition of R^2...  \n",
       "7             Isn't the table sorted alphabetically?  "
      ]
     },
     "execution_count": 67,
     "metadata": {},
     "output_type": "execute_result"
    }
   ],
   "source": [
    "df.head()"
   ]
  },
  {
   "cell_type": "code",
   "execution_count": 71,
   "metadata": {},
   "outputs": [],
   "source": [
    "from vaderSentiment.vaderSentiment import SentimentIntensityAnalyzer"
   ]
  },
  {
   "cell_type": "code",
   "execution_count": 72,
   "metadata": {},
   "outputs": [],
   "source": [
    "analyser = SentimentIntensityAnalyzer()"
   ]
  },
  {
   "cell_type": "code",
   "execution_count": 84,
   "metadata": {},
   "outputs": [
    {
     "name": "stdout",
     "output_type": "stream",
     "text": [
      "0.09486419753086421\n",
      "0.8171111111111112\n",
      "0.08798765432098764\n",
      "0.039937037037037035\n"
     ]
    }
   ],
   "source": [
    "posScore=[]\n",
    "neuScore=[]\n",
    "comScore=[]\n",
    "negScore=[]\n",
    "for comment in df['cleanComment']:\n",
    "    neg, neu, pos, com = analyser.polarity_scores(comment).values()\n",
    "    negScore.append(float(neg))\n",
    "    neuScore.append(float(neu))\n",
    "    posScore.append(float(pos))\n",
    "    comScore.append(float(com))\n",
    "print(np.mean(negScore))\n",
    "print(np.mean(neuScore))\n",
    "print(np.mean(posScore))\n",
    "print(np.mean(comScore))"
   ]
  },
  {
   "cell_type": "code",
   "execution_count": 75,
   "metadata": {},
   "outputs": [
    {
     "data": {
      "text/plain": [
       "glofish            6\n",
       "INGELRII           2\n",
       "OnlineGladiator    2\n",
       "gnode              2\n",
       "TrainedMonkey      2\n",
       "                  ..\n",
       "acd                1\n",
       "avip               1\n",
       "bryanmgreen        1\n",
       "ErikAugust         1\n",
       "jefftk             1\n",
       "Name: user, Length: 63, dtype: int64"
      ]
     },
     "execution_count": 75,
     "metadata": {},
     "output_type": "execute_result"
    }
   ],
   "source": [
    "df['user'].value_counts()"
   ]
  },
  {
   "cell_type": "code",
   "execution_count": 93,
   "metadata": {},
   "outputs": [],
   "source": [
    "def get_scores(data):\n",
    "    '''Returns the mean scores of negative, neutral, positive or combined for \n",
    "    a given list of data \n",
    "    would make sense to be grouped by user or by article'''\n",
    "    posScore=[]\n",
    "    neuScore=[]\n",
    "    comScore=[]\n",
    "    negScore=[]\n",
    "    for comment in data:\n",
    "        neg, neu, pos, com = analyser.polarity_scores(comment).values()\n",
    "        negScore.append(float(neg))\n",
    "        neuScore.append(float(neu))\n",
    "        posScore.append(float(pos))\n",
    "        comScore.append(float(com))\n",
    "    return {'neg': np.mean(negScore), 'neu': np.mean(neuScore), 'pos':np.mean(posScore), 'com': np.mean(comScore)}"
   ]
  },
  {
   "cell_type": "code",
   "execution_count": null,
   "metadata": {},
   "outputs": [],
   "source": [
    "def negativity_func(text):\n",
    "    return analyser.polarity_scores(text)['neg']"
   ]
  },
  {
   "cell_type": "code",
   "execution_count": 95,
   "metadata": {},
   "outputs": [
    {
     "data": {
      "text/plain": [
       "{'neg': 0.0, 'neu': 1.0, 'pos': 0.0, 'compound': 0.0}"
      ]
     },
     "execution_count": 95,
     "metadata": {},
     "output_type": "execute_result"
    }
   ],
   "source": [
    "analyser.polarity_scores('https://github.com/opendata-stuttgart')"
   ]
  },
  {
   "cell_type": "code",
   "execution_count": 94,
   "metadata": {},
   "outputs": [
    {
     "data": {
      "text/plain": [
       "{'neg': 0.0777686567164179,\n",
       " 'neu': 0.8334029850746268,\n",
       " 'pos': 0.0888134328358209,\n",
       " 'com': 0.08098208955223882}"
      ]
     },
     "execution_count": 94,
     "metadata": {},
     "output_type": "execute_result"
    }
   ],
   "source": [
    "get_scores(df['comment'])"
   ]
  },
  {
   "cell_type": "code",
   "execution_count": null,
   "metadata": {},
   "outputs": [],
   "source": []
  }
 ],
 "metadata": {
  "kernelspec": {
   "display_name": "Python 3",
   "language": "python",
   "name": "python3"
  },
  "language_info": {
   "codemirror_mode": {
    "name": "ipython",
    "version": 3
   },
   "file_extension": ".py",
   "mimetype": "text/x-python",
   "name": "python",
   "nbconvert_exporter": "python",
   "pygments_lexer": "ipython3",
   "version": "3.7.3"
  }
 },
 "nbformat": 4,
 "nbformat_minor": 4
}
